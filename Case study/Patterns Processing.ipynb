{
 "cells": [
  {
   "cell_type": "code",
   "execution_count": 47,
   "metadata": {},
   "outputs": [],
   "source": [
    "import os\n",
    "from lxml import etree\n",
    "import json"
   ]
  },
  {
   "cell_type": "code",
   "execution_count": 48,
   "metadata": {},
   "outputs": [],
   "source": [
    "def pre_process(file_path):\n",
    "    try:\n",
    "        with open(file_path, 'rb') as file:\n",
    "            xml_content = file.read()\n",
    "        root = etree.fromstring(xml_content)\n",
    "        for bpmndi_tag in root.xpath(\".//bpmndi:*\", namespaces={'bpmndi': 'http://www.omg.org/spec/BPMN/20100524/DI'}):\n",
    "            parent = bpmndi_tag.getparent()\n",
    "            if parent is not None:\n",
    "                parent.remove(bpmndi_tag)\n",
    "        modified_xml = etree.tostring(root, pretty_print=True, encoding='unicode')\n",
    "        if isinstance(modified_xml, bytes):  # Ensure modified_xml is a string\n",
    "            modified_xml = modified_xml.decode('utf-8')\n",
    "        return modified_xml\n",
    "    except Exception as e:\n",
    "        print(f\"Failed to process {file_path}: {e}\")\n",
    "        return None"
   ]
  },
  {
   "cell_type": "code",
   "execution_count": 49,
   "metadata": {},
   "outputs": [],
   "source": [
    "def process_files_in_directory(directory_path):\n",
    "    json_output = {\"filename\":\"\",\"XML_Contents\":\"\"}\n",
    "    jsonl_filename = 'All_Conflcit_Patterns.jsonl'\n",
    "    failed_files = []  # List to store names of failed files\n",
    "\n",
    "    # Open the JSONL file for writing\n",
    "    with open(jsonl_filename, 'w') as jsonl_file:\n",
    "        # Iterate over each file in the directory\n",
    "        for filename in os.listdir(directory_path):\n",
    "            if filename.endswith('.bpmnq'):\n",
    "                file_path = os.path.join(directory_path, filename)\n",
    "                modified_xml = pre_process(file_path)\n",
    "                if modified_xml:\n",
    "                    # Add to JSON output\n",
    "                    json_output[\"filename\"] = filename\n",
    "                    json_output[\"XML_Contents\"] = modified_xml\n",
    "                    \n",
    "                    # Write to JSONL file\n",
    "                    jsonl_file.write(json.dumps(json_output) + '\\n')\n",
    "                else:\n",
    "                    failed_files.append(filename)  # Add the file to the list of failed files\n",
    "\n",
    "    if failed_files:\n",
    "        print(\"Failed to process the following files:\")\n",
    "        print(\"\\n\".join(failed_files))"
   ]
  },
  {
   "cell_type": "code",
   "execution_count": 50,
   "metadata": {},
   "outputs": [],
   "source": [
    "pattern_base = r'C:\\STS-Tool_SecBpmn_DM_v.1.0.0.201803081550\\workspace\\telemedicine\\Models\\SecBPMN2\\conflicts_Patterns'\n",
    "process_files_in_directory(pattern_base)"
   ]
  },
  {
   "cell_type": "code",
   "execution_count": null,
   "metadata": {},
   "outputs": [],
   "source": []
  }
 ],
 "metadata": {
  "kernelspec": {
   "display_name": "Python 3",
   "language": "python",
   "name": "python3"
  },
  "language_info": {
   "codemirror_mode": {
    "name": "ipython",
    "version": 3
   },
   "file_extension": ".py",
   "mimetype": "text/x-python",
   "name": "python",
   "nbconvert_exporter": "python",
   "pygments_lexer": "ipython3",
   "version": "3.11.9"
  }
 },
 "nbformat": 4,
 "nbformat_minor": 2
}
