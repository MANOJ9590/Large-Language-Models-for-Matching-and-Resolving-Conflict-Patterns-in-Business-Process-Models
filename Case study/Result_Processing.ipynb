{
 "cells": [
  {
   "cell_type": "code",
   "execution_count": 2,
   "metadata": {},
   "outputs": [],
   "source": [
    "import json\n",
    "import re\n",
    "import os"
   ]
  },
  {
   "cell_type": "code",
   "execution_count": null,
   "metadata": {},
   "outputs": [],
   "source": [
    "results_Folder = \"EVAL_Results\"\n"
   ]
  },
  {
   "cell_type": "code",
   "execution_count": 18,
   "metadata": {},
   "outputs": [],
   "source": [
    "for file_name in os.listdir(results_Folder):\n",
    "    file_path = os.path.join(results_Folder, file_name)\n",
    "    if os.path.isfile(file_path):  # Check if it's a file (not a folder)\n",
    "        with open(file_path, 'r') as file:\n",
    "            lines = file.readlines()  # Read all lines into a list\n",
    "            third_line = lines[2].strip() if len(lines) >= 3 else \"No third line\"\n",
    "            last_line = lines[-1].strip() if lines else \"No last line\"\n",
    "            third_line=third_line.split(':', 1)[1].strip()\n",
    "            last_line=last_line.split(':', 1)[1].strip()\n",
    "            \n",
    "        with open(file_path, 'r') as file:\n",
    "            content = file.read()\n",
    "            json_pattern = r'(\\{.*\\})'\n",
    "\n",
    "        # Find the JSON object in the content string\n",
    "            json_match = re.search(json_pattern, content, re.DOTALL)\n",
    "\n",
    "            if json_match:\n",
    "                json_obj = json_match.group(1)\n",
    "                json_obj = json.loads(json_obj)\n",
    "                \n",
    "                # print(json_obj)\n",
    "            else:\n",
    "                print(\"No JSON object found\")\n",
    "                \n",
    "            values = list(json_obj.values())\n",
    "\n",
    "            Result = {\n",
    "                \"ID\": file_name,\n",
    "                \"Pattern Name\":third_line,\n",
    "                \"LLM_TIME\":last_line,\n",
    "                # \"Conflict Pattern Name\":values[0],\n",
    "                \"Conflict Detection\":values[1],\n",
    "                \"Explanation of Conflict\":values[2],\n",
    "                \"Summarise Explanation of Conflict\":values[3],\n",
    "                \"Resolution Suggestion\":values[4]\n",
    "            }\n",
    " \n",
    "            #Writting to Jsonl file\n",
    "            with open(\"Result.jsonl\", \"a\") as file:\n",
    "                # Convert the Python dictionary to a JSON string and write it as a new line\n",
    "                json.dump(Result, file)\n",
    "                file.write(\"\\n\")\n"
   ]
  },
  {
   "cell_type": "code",
   "execution_count": null,
   "metadata": {},
   "outputs": [],
   "source": []
  }
 ],
 "metadata": {
  "kernelspec": {
   "display_name": "Python 3",
   "language": "python",
   "name": "python3"
  },
  "language_info": {
   "codemirror_mode": {
    "name": "ipython",
    "version": 3
   },
   "file_extension": ".py",
   "mimetype": "text/x-python",
   "name": "python",
   "nbconvert_exporter": "python",
   "pygments_lexer": "ipython3",
   "version": "3.11.9"
  }
 },
 "nbformat": 4,
 "nbformat_minor": 2
}
